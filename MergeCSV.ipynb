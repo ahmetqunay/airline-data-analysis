{
 "cells": [
  {
   "cell_type": "code",
   "execution_count": 1,
   "metadata": {},
   "outputs": [],
   "source": [
    "import pandas as pd\n",
    "import glob\n",
    "\n",
    "# 9 CSV dosyasını bul\n",
    "csv_files = glob.glob(\"20*.csv\")\n",
    "\n",
    "# Gerekli kolonlar\n",
    "columns_needed = [\n",
    "    \"YEAR\", \"MONTH\", \"DAY_OF_MONTH\", \"DAY_OF_WEEK\",\n",
    "    \"MKT_CARRIER\", \"OP_CARRIER\", \"TAIL_NUM\",\n",
    "    \"ORIGIN\", \"ORIGIN_CITY_NAME\", \"ORIGIN_STATE_NM\",\n",
    "    \"DEST\", \"DEST_CITY_NAME\", \"DEST_STATE_NM\",\n",
    "    \"CRS_DEP_TIME\", \"DEP_TIME\", \"DEP_DELAY\", \"TAXI_OUT\",\n",
    "    \"WHEELS_OFF\", \"WHEELS_ON\", \"TAXI_IN\",\n",
    "    \"CRS_ARR_TIME\", \"ARR_TIME\", \"ARR_DELAY\", \"DIVERTED\",\n",
    "    \"CRS_ELAPSED_TIME\", \"ACTUAL_ELAPSED_TIME\", \"AIR_TIME\",\n",
    "    \"DISTANCE\", \"CANCELLED\"\n",
    "]\n",
    "\n",
    "# Boş bir liste ile sonuçları saklayacağız\n",
    "dataframes = []\n",
    "\n",
    "# Dosyaları sırayla oku ve işleme\n",
    "for file in csv_files:\n",
    "    # Sadece gerekli kolonları oku\n",
    "    df = pd.read_csv(file, usecols=columns_needed)\n",
    "    \n",
    "    # DISTANCE kolonunu milden kilometreye çevir\n",
    "    #df[\"DISTANCE\"] = df[\"DISTANCE\"] * 1.60934\n",
    "    \n",
    "    # İşlenen DataFrame'i listeye ekle\n",
    "    dataframes.append(df)"
   ]
  },
  {
   "cell_type": "code",
   "execution_count": 3,
   "metadata": {},
   "outputs": [
    {
     "name": "stdout",
     "output_type": "stream",
     "text": [
      "Tüm DataFrame'lerin kolonları aynı.\n"
     ]
    }
   ],
   "source": [
    "# Tüm DataFrame kolonlarının aynı olup olmadığını kontrol et\n",
    "are_columns_equal = all(dataframes[0].columns.equals(df.columns) for df in dataframes)\n",
    "\n",
    "if are_columns_equal:\n",
    "    print(\"Tüm DataFrame'lerin kolonları aynı.\")\n",
    "else:\n",
    "    print(\"Bazı DataFrame'lerin kolonları farklı.\")"
   ]
  },
  {
   "cell_type": "code",
   "execution_count": 4,
   "metadata": {},
   "outputs": [
    {
     "name": "stdout",
     "output_type": "stream",
     "text": [
      "İşlem tamamlandı! 'combined_filtered.csv' dosyası oluşturuldu.\n"
     ]
    }
   ],
   "source": [
    "# Tüm DataFrame'leri birleştir\n",
    "combined_df = pd.concat(dataframes, ignore_index=True)\n",
    "\n",
    "# Sonucu yeni bir CSV dosyasına yaz\n",
    "combined_df.to_csv(\"2024.csv\", index=False)\n",
    "\n",
    "print(\"İşlem tamamlandı! csv dosyası oluşturuldu.\")"
   ]
  },
  {
   "cell_type": "code",
   "execution_count": null,
   "metadata": {},
   "outputs": [],
   "source": []
  }
 ],
 "metadata": {
  "kernelspec": {
   "display_name": "Python 3",
   "language": "python",
   "name": "python3"
  },
  "language_info": {
   "codemirror_mode": {
    "name": "ipython",
    "version": 3
   },
   "file_extension": ".py",
   "mimetype": "text/x-python",
   "name": "python",
   "nbconvert_exporter": "python",
   "pygments_lexer": "ipython3",
   "version": "3.12.0"
  }
 },
 "nbformat": 4,
 "nbformat_minor": 2
}
